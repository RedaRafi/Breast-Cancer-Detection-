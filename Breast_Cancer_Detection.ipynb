{
  "nbformat": 4,
  "nbformat_minor": 0,
  "metadata": {
    "colab": {
      "name": "Breast Cancer Detection.ipynb",
      "provenance": [],
      "authorship_tag": "ABX9TyNBb8G4MJgWD94I2pFoOZ2/",
      "include_colab_link": true
    },
    "kernelspec": {
      "name": "python3",
      "display_name": "Python 3"
    },
    "accelerator": "TPU"
  },
  "cells": [
    {
      "cell_type": "markdown",
      "metadata": {
        "id": "view-in-github",
        "colab_type": "text"
      },
      "source": [
        "<a href=\"https://colab.research.google.com/github/RedaRafi/Breast-Cancer-Detection-/blob/main/Breast_Cancer_Detection.ipynb\" target=\"_parent\"><img src=\"https://colab.research.google.com/assets/colab-badge.svg\" alt=\"Open In Colab\"/></a>"
      ]
    },
    {
      "cell_type": "markdown",
      "metadata": {
        "id": "eta--Je0m4xn"
      },
      "source": [
        "# Breast Cancer detection Using TensorFlow \n",
        "\n",
        "\n"
      ]
    },
    {
      "cell_type": "markdown",
      "metadata": {
        "id": "pj2Vi60CnLbi"
      },
      "source": [
        "We are going to use tensorflow 2.3 to build the model. "
      ]
    },
    {
      "cell_type": "code",
      "metadata": {
        "id": "3Sx1JZAPkK2l",
        "outputId": "bb68127d-040d-4cc8-f6ea-989de9159194",
        "colab": {
          "base_uri": "https://localhost:8080/",
          "height": 860
        }
      },
      "source": [
        " !pip install tensorflow-gpu==2.3.0-rc0"
      ],
      "execution_count": 1,
      "outputs": [
        {
          "output_type": "stream",
          "text": [
            "Collecting tensorflow-gpu==2.3.0-rc0\n",
            "\u001b[?25l  Downloading https://files.pythonhosted.org/packages/92/53/8553b59f223aef72d0a24dbc15364c86a28440652e98504301fea2286a0c/tensorflow_gpu-2.3.0rc0-cp36-cp36m-manylinux2010_x86_64.whl (320.3MB)\n",
            "\u001b[K     |████████████████████████████████| 320.3MB 51kB/s \n",
            "\u001b[?25hRequirement already satisfied: keras-preprocessing<1.2,>=1.1.1 in /usr/local/lib/python3.6/dist-packages (from tensorflow-gpu==2.3.0-rc0) (1.1.2)\n",
            "Requirement already satisfied: astunparse==1.6.3 in /usr/local/lib/python3.6/dist-packages (from tensorflow-gpu==2.3.0-rc0) (1.6.3)\n",
            "Requirement already satisfied: six>=1.12.0 in /usr/local/lib/python3.6/dist-packages (from tensorflow-gpu==2.3.0-rc0) (1.15.0)\n",
            "Requirement already satisfied: opt-einsum>=2.3.2 in /usr/local/lib/python3.6/dist-packages (from tensorflow-gpu==2.3.0-rc0) (3.3.0)\n",
            "Requirement already satisfied: h5py<2.11.0,>=2.10.0 in /usr/local/lib/python3.6/dist-packages (from tensorflow-gpu==2.3.0-rc0) (2.10.0)\n",
            "Requirement already satisfied: wheel>=0.26 in /usr/local/lib/python3.6/dist-packages (from tensorflow-gpu==2.3.0-rc0) (0.35.1)\n",
            "Requirement already satisfied: wrapt>=1.11.1 in /usr/local/lib/python3.6/dist-packages (from tensorflow-gpu==2.3.0-rc0) (1.12.1)\n",
            "Requirement already satisfied: scipy==1.4.1 in /usr/local/lib/python3.6/dist-packages (from tensorflow-gpu==2.3.0-rc0) (1.4.1)\n",
            "Collecting tensorboard<2.3.0,>=2.2.0\n",
            "\u001b[?25l  Downloading https://files.pythonhosted.org/packages/1d/74/0a6fcb206dcc72a6da9a62dd81784bfdbff5fedb099982861dc2219014fb/tensorboard-2.2.2-py3-none-any.whl (3.0MB)\n",
            "\u001b[K     |████████████████████████████████| 3.0MB 43.5MB/s \n",
            "\u001b[?25hRequirement already satisfied: numpy<1.19.0,>=1.16.0 in /usr/local/lib/python3.6/dist-packages (from tensorflow-gpu==2.3.0-rc0) (1.18.5)\n",
            "Requirement already satisfied: protobuf>=3.9.2 in /usr/local/lib/python3.6/dist-packages (from tensorflow-gpu==2.3.0-rc0) (3.12.4)\n",
            "Requirement already satisfied: termcolor>=1.1.0 in /usr/local/lib/python3.6/dist-packages (from tensorflow-gpu==2.3.0-rc0) (1.1.0)\n",
            "Requirement already satisfied: gast==0.3.3 in /usr/local/lib/python3.6/dist-packages (from tensorflow-gpu==2.3.0-rc0) (0.3.3)\n",
            "Requirement already satisfied: google-pasta>=0.1.8 in /usr/local/lib/python3.6/dist-packages (from tensorflow-gpu==2.3.0-rc0) (0.2.0)\n",
            "Requirement already satisfied: grpcio>=1.8.6 in /usr/local/lib/python3.6/dist-packages (from tensorflow-gpu==2.3.0-rc0) (1.32.0)\n",
            "Requirement already satisfied: absl-py>=0.7.0 in /usr/local/lib/python3.6/dist-packages (from tensorflow-gpu==2.3.0-rc0) (0.10.0)\n",
            "Collecting tf-estimator-nightly<2.3.0.dev2020062302,>=2.3.0.dev2020062301\n",
            "\u001b[?25l  Downloading https://files.pythonhosted.org/packages/17/3b/fb9aafd734da258411bff2a600cabff65c7d201782318791b72422bd973d/tf_estimator_nightly-2.3.0.dev2020062301-py2.py3-none-any.whl (459kB)\n",
            "\u001b[K     |████████████████████████████████| 460kB 35.6MB/s \n",
            "\u001b[?25hRequirement already satisfied: google-auth<2,>=1.6.3 in /usr/local/lib/python3.6/dist-packages (from tensorboard<2.3.0,>=2.2.0->tensorflow-gpu==2.3.0-rc0) (1.17.2)\n",
            "Requirement already satisfied: werkzeug>=0.11.15 in /usr/local/lib/python3.6/dist-packages (from tensorboard<2.3.0,>=2.2.0->tensorflow-gpu==2.3.0-rc0) (1.0.1)\n",
            "Requirement already satisfied: markdown>=2.6.8 in /usr/local/lib/python3.6/dist-packages (from tensorboard<2.3.0,>=2.2.0->tensorflow-gpu==2.3.0-rc0) (3.2.2)\n",
            "Requirement already satisfied: requests<3,>=2.21.0 in /usr/local/lib/python3.6/dist-packages (from tensorboard<2.3.0,>=2.2.0->tensorflow-gpu==2.3.0-rc0) (2.23.0)\n",
            "Requirement already satisfied: setuptools>=41.0.0 in /usr/local/lib/python3.6/dist-packages (from tensorboard<2.3.0,>=2.2.0->tensorflow-gpu==2.3.0-rc0) (50.3.0)\n",
            "Requirement already satisfied: tensorboard-plugin-wit>=1.6.0 in /usr/local/lib/python3.6/dist-packages (from tensorboard<2.3.0,>=2.2.0->tensorflow-gpu==2.3.0-rc0) (1.7.0)\n",
            "Requirement already satisfied: google-auth-oauthlib<0.5,>=0.4.1 in /usr/local/lib/python3.6/dist-packages (from tensorboard<2.3.0,>=2.2.0->tensorflow-gpu==2.3.0-rc0) (0.4.1)\n",
            "Requirement already satisfied: cachetools<5.0,>=2.0.0 in /usr/local/lib/python3.6/dist-packages (from google-auth<2,>=1.6.3->tensorboard<2.3.0,>=2.2.0->tensorflow-gpu==2.3.0-rc0) (4.1.1)\n",
            "Requirement already satisfied: rsa<5,>=3.1.4; python_version >= \"3\" in /usr/local/lib/python3.6/dist-packages (from google-auth<2,>=1.6.3->tensorboard<2.3.0,>=2.2.0->tensorflow-gpu==2.3.0-rc0) (4.6)\n",
            "Requirement already satisfied: pyasn1-modules>=0.2.1 in /usr/local/lib/python3.6/dist-packages (from google-auth<2,>=1.6.3->tensorboard<2.3.0,>=2.2.0->tensorflow-gpu==2.3.0-rc0) (0.2.8)\n",
            "Requirement already satisfied: importlib-metadata; python_version < \"3.8\" in /usr/local/lib/python3.6/dist-packages (from markdown>=2.6.8->tensorboard<2.3.0,>=2.2.0->tensorflow-gpu==2.3.0-rc0) (2.0.0)\n",
            "Requirement already satisfied: idna<3,>=2.5 in /usr/local/lib/python3.6/dist-packages (from requests<3,>=2.21.0->tensorboard<2.3.0,>=2.2.0->tensorflow-gpu==2.3.0-rc0) (2.10)\n",
            "Requirement already satisfied: certifi>=2017.4.17 in /usr/local/lib/python3.6/dist-packages (from requests<3,>=2.21.0->tensorboard<2.3.0,>=2.2.0->tensorflow-gpu==2.3.0-rc0) (2020.6.20)\n",
            "Requirement already satisfied: urllib3!=1.25.0,!=1.25.1,<1.26,>=1.21.1 in /usr/local/lib/python3.6/dist-packages (from requests<3,>=2.21.0->tensorboard<2.3.0,>=2.2.0->tensorflow-gpu==2.3.0-rc0) (1.24.3)\n",
            "Requirement already satisfied: chardet<4,>=3.0.2 in /usr/local/lib/python3.6/dist-packages (from requests<3,>=2.21.0->tensorboard<2.3.0,>=2.2.0->tensorflow-gpu==2.3.0-rc0) (3.0.4)\n",
            "Requirement already satisfied: requests-oauthlib>=0.7.0 in /usr/local/lib/python3.6/dist-packages (from google-auth-oauthlib<0.5,>=0.4.1->tensorboard<2.3.0,>=2.2.0->tensorflow-gpu==2.3.0-rc0) (1.3.0)\n",
            "Requirement already satisfied: pyasn1>=0.1.3 in /usr/local/lib/python3.6/dist-packages (from rsa<5,>=3.1.4; python_version >= \"3\"->google-auth<2,>=1.6.3->tensorboard<2.3.0,>=2.2.0->tensorflow-gpu==2.3.0-rc0) (0.4.8)\n",
            "Requirement already satisfied: zipp>=0.5 in /usr/local/lib/python3.6/dist-packages (from importlib-metadata; python_version < \"3.8\"->markdown>=2.6.8->tensorboard<2.3.0,>=2.2.0->tensorflow-gpu==2.3.0-rc0) (3.2.0)\n",
            "Requirement already satisfied: oauthlib>=3.0.0 in /usr/local/lib/python3.6/dist-packages (from requests-oauthlib>=0.7.0->google-auth-oauthlib<0.5,>=0.4.1->tensorboard<2.3.0,>=2.2.0->tensorflow-gpu==2.3.0-rc0) (3.1.0)\n",
            "\u001b[31mERROR: tensorflow 2.3.0 has requirement tensorboard<3,>=2.3.0, but you'll have tensorboard 2.2.2 which is incompatible.\u001b[0m\n",
            "Installing collected packages: tensorboard, tf-estimator-nightly, tensorflow-gpu\n",
            "  Found existing installation: tensorboard 2.3.0\n",
            "    Uninstalling tensorboard-2.3.0:\n",
            "      Successfully uninstalled tensorboard-2.3.0\n",
            "Successfully installed tensorboard-2.2.2 tensorflow-gpu-2.3.0rc0 tf-estimator-nightly-2.3.0.dev2020062301\n"
          ],
          "name": "stdout"
        }
      ]
    },
    {
      "cell_type": "markdown",
      "metadata": {
        "id": "8oedsebunBbh"
      },
      "source": [
        "\n",
        "#Importing necessary library that will use in model building.\n"
      ]
    },
    {
      "cell_type": "code",
      "metadata": {
        "id": "DiSoc2jzCXXo"
      },
      "source": [
        "import tensorflow as tf\n",
        "from tensorflow import keras\n",
        "from tensorflow.keras import Sequential\n",
        "from tensorflow.keras.layers import Flatten, Dense, Dropout, BatchNormalization\n",
        "from tensorflow.keras.layers import Conv1D, MaxPool1D\n",
        "\n",
        "from tensorflow.keras.optimizers import Adam\n",
        "\n",
        "\n"
      ],
      "execution_count": 2,
      "outputs": []
    },
    {
      "cell_type": "code",
      "metadata": {
        "id": "ZK8WgU3OlCT_",
        "outputId": "ebac5cdf-c057-4b69-dfdf-10637d03b6ca",
        "colab": {
          "base_uri": "https://localhost:8080/",
          "height": 50
        }
      },
      "source": [
        "import pandas as pd\n",
        "import numpy as np\n",
        "import  seaborn as sns\n",
        "import matplotlib.pyplot as plt\n",
        "import pandas.util.testing as tm"
      ],
      "execution_count": 3,
      "outputs": [
        {
          "output_type": "stream",
          "text": [
            "/usr/local/lib/python3.6/dist-packages/ipykernel_launcher.py:5: FutureWarning: pandas.util.testing is deprecated. Use the functions in the public API at pandas.testing instead.\n",
            "  \"\"\"\n"
          ],
          "name": "stderr"
        }
      ]
    },
    {
      "cell_type": "code",
      "metadata": {
        "id": "tnbLLynFG7Gt"
      },
      "source": [
        "from sklearn import datasets, metrics\n",
        "from sklearn.model_selection import train_test_split\n",
        "from sklearn.preprocessing import StandardScaler"
      ],
      "execution_count": 5,
      "outputs": []
    },
    {
      "cell_type": "markdown",
      "metadata": {
        "id": "Po6i7faomlcm"
      },
      "source": [
        "# *Loading the breast cancer classification dataset.*"
      ]
    },
    {
      "cell_type": "code",
      "metadata": {
        "id": "vkzlqelVHDrb"
      },
      "source": [
        "cancer = datasets.load_breast_cancer()"
      ],
      "execution_count": 6,
      "outputs": []
    },
    {
      "cell_type": "markdown",
      "metadata": {
        "id": "QSGckVsMn_6F"
      },
      "source": [
        "\n",
        "*   Pandas DataFrame to present all My data. \n",
        "*   Create a dataframe with our cancer data and target data.\n",
        "\n",
        "\n",
        "\n"
      ]
    },
    {
      "cell_type": "code",
      "metadata": {
        "id": "5UMdekhsHD1n",
        "outputId": "96d72b8e-6bf5-4c6b-a9fc-c70b9f0ada06",
        "colab": {
          "base_uri": "https://localhost:8080/",
          "height": 249
        }
      },
      "source": [
        "X = pd.DataFrame(data = cancer.data, columns=cancer.feature_names)\n",
        "X.head() "
      ],
      "execution_count": 7,
      "outputs": [
        {
          "output_type": "execute_result",
          "data": {
            "text/html": [
              "<div>\n",
              "<style scoped>\n",
              "    .dataframe tbody tr th:only-of-type {\n",
              "        vertical-align: middle;\n",
              "    }\n",
              "\n",
              "    .dataframe tbody tr th {\n",
              "        vertical-align: top;\n",
              "    }\n",
              "\n",
              "    .dataframe thead th {\n",
              "        text-align: right;\n",
              "    }\n",
              "</style>\n",
              "<table border=\"1\" class=\"dataframe\">\n",
              "  <thead>\n",
              "    <tr style=\"text-align: right;\">\n",
              "      <th></th>\n",
              "      <th>mean radius</th>\n",
              "      <th>mean texture</th>\n",
              "      <th>mean perimeter</th>\n",
              "      <th>mean area</th>\n",
              "      <th>mean smoothness</th>\n",
              "      <th>mean compactness</th>\n",
              "      <th>mean concavity</th>\n",
              "      <th>mean concave points</th>\n",
              "      <th>mean symmetry</th>\n",
              "      <th>mean fractal dimension</th>\n",
              "      <th>radius error</th>\n",
              "      <th>texture error</th>\n",
              "      <th>perimeter error</th>\n",
              "      <th>area error</th>\n",
              "      <th>smoothness error</th>\n",
              "      <th>compactness error</th>\n",
              "      <th>concavity error</th>\n",
              "      <th>concave points error</th>\n",
              "      <th>symmetry error</th>\n",
              "      <th>fractal dimension error</th>\n",
              "      <th>worst radius</th>\n",
              "      <th>worst texture</th>\n",
              "      <th>worst perimeter</th>\n",
              "      <th>worst area</th>\n",
              "      <th>worst smoothness</th>\n",
              "      <th>worst compactness</th>\n",
              "      <th>worst concavity</th>\n",
              "      <th>worst concave points</th>\n",
              "      <th>worst symmetry</th>\n",
              "      <th>worst fractal dimension</th>\n",
              "    </tr>\n",
              "  </thead>\n",
              "  <tbody>\n",
              "    <tr>\n",
              "      <th>0</th>\n",
              "      <td>17.99</td>\n",
              "      <td>10.38</td>\n",
              "      <td>122.80</td>\n",
              "      <td>1001.0</td>\n",
              "      <td>0.11840</td>\n",
              "      <td>0.27760</td>\n",
              "      <td>0.3001</td>\n",
              "      <td>0.14710</td>\n",
              "      <td>0.2419</td>\n",
              "      <td>0.07871</td>\n",
              "      <td>1.0950</td>\n",
              "      <td>0.9053</td>\n",
              "      <td>8.589</td>\n",
              "      <td>153.40</td>\n",
              "      <td>0.006399</td>\n",
              "      <td>0.04904</td>\n",
              "      <td>0.05373</td>\n",
              "      <td>0.01587</td>\n",
              "      <td>0.03003</td>\n",
              "      <td>0.006193</td>\n",
              "      <td>25.38</td>\n",
              "      <td>17.33</td>\n",
              "      <td>184.60</td>\n",
              "      <td>2019.0</td>\n",
              "      <td>0.1622</td>\n",
              "      <td>0.6656</td>\n",
              "      <td>0.7119</td>\n",
              "      <td>0.2654</td>\n",
              "      <td>0.4601</td>\n",
              "      <td>0.11890</td>\n",
              "    </tr>\n",
              "    <tr>\n",
              "      <th>1</th>\n",
              "      <td>20.57</td>\n",
              "      <td>17.77</td>\n",
              "      <td>132.90</td>\n",
              "      <td>1326.0</td>\n",
              "      <td>0.08474</td>\n",
              "      <td>0.07864</td>\n",
              "      <td>0.0869</td>\n",
              "      <td>0.07017</td>\n",
              "      <td>0.1812</td>\n",
              "      <td>0.05667</td>\n",
              "      <td>0.5435</td>\n",
              "      <td>0.7339</td>\n",
              "      <td>3.398</td>\n",
              "      <td>74.08</td>\n",
              "      <td>0.005225</td>\n",
              "      <td>0.01308</td>\n",
              "      <td>0.01860</td>\n",
              "      <td>0.01340</td>\n",
              "      <td>0.01389</td>\n",
              "      <td>0.003532</td>\n",
              "      <td>24.99</td>\n",
              "      <td>23.41</td>\n",
              "      <td>158.80</td>\n",
              "      <td>1956.0</td>\n",
              "      <td>0.1238</td>\n",
              "      <td>0.1866</td>\n",
              "      <td>0.2416</td>\n",
              "      <td>0.1860</td>\n",
              "      <td>0.2750</td>\n",
              "      <td>0.08902</td>\n",
              "    </tr>\n",
              "    <tr>\n",
              "      <th>2</th>\n",
              "      <td>19.69</td>\n",
              "      <td>21.25</td>\n",
              "      <td>130.00</td>\n",
              "      <td>1203.0</td>\n",
              "      <td>0.10960</td>\n",
              "      <td>0.15990</td>\n",
              "      <td>0.1974</td>\n",
              "      <td>0.12790</td>\n",
              "      <td>0.2069</td>\n",
              "      <td>0.05999</td>\n",
              "      <td>0.7456</td>\n",
              "      <td>0.7869</td>\n",
              "      <td>4.585</td>\n",
              "      <td>94.03</td>\n",
              "      <td>0.006150</td>\n",
              "      <td>0.04006</td>\n",
              "      <td>0.03832</td>\n",
              "      <td>0.02058</td>\n",
              "      <td>0.02250</td>\n",
              "      <td>0.004571</td>\n",
              "      <td>23.57</td>\n",
              "      <td>25.53</td>\n",
              "      <td>152.50</td>\n",
              "      <td>1709.0</td>\n",
              "      <td>0.1444</td>\n",
              "      <td>0.4245</td>\n",
              "      <td>0.4504</td>\n",
              "      <td>0.2430</td>\n",
              "      <td>0.3613</td>\n",
              "      <td>0.08758</td>\n",
              "    </tr>\n",
              "    <tr>\n",
              "      <th>3</th>\n",
              "      <td>11.42</td>\n",
              "      <td>20.38</td>\n",
              "      <td>77.58</td>\n",
              "      <td>386.1</td>\n",
              "      <td>0.14250</td>\n",
              "      <td>0.28390</td>\n",
              "      <td>0.2414</td>\n",
              "      <td>0.10520</td>\n",
              "      <td>0.2597</td>\n",
              "      <td>0.09744</td>\n",
              "      <td>0.4956</td>\n",
              "      <td>1.1560</td>\n",
              "      <td>3.445</td>\n",
              "      <td>27.23</td>\n",
              "      <td>0.009110</td>\n",
              "      <td>0.07458</td>\n",
              "      <td>0.05661</td>\n",
              "      <td>0.01867</td>\n",
              "      <td>0.05963</td>\n",
              "      <td>0.009208</td>\n",
              "      <td>14.91</td>\n",
              "      <td>26.50</td>\n",
              "      <td>98.87</td>\n",
              "      <td>567.7</td>\n",
              "      <td>0.2098</td>\n",
              "      <td>0.8663</td>\n",
              "      <td>0.6869</td>\n",
              "      <td>0.2575</td>\n",
              "      <td>0.6638</td>\n",
              "      <td>0.17300</td>\n",
              "    </tr>\n",
              "    <tr>\n",
              "      <th>4</th>\n",
              "      <td>20.29</td>\n",
              "      <td>14.34</td>\n",
              "      <td>135.10</td>\n",
              "      <td>1297.0</td>\n",
              "      <td>0.10030</td>\n",
              "      <td>0.13280</td>\n",
              "      <td>0.1980</td>\n",
              "      <td>0.10430</td>\n",
              "      <td>0.1809</td>\n",
              "      <td>0.05883</td>\n",
              "      <td>0.7572</td>\n",
              "      <td>0.7813</td>\n",
              "      <td>5.438</td>\n",
              "      <td>94.44</td>\n",
              "      <td>0.011490</td>\n",
              "      <td>0.02461</td>\n",
              "      <td>0.05688</td>\n",
              "      <td>0.01885</td>\n",
              "      <td>0.01756</td>\n",
              "      <td>0.005115</td>\n",
              "      <td>22.54</td>\n",
              "      <td>16.67</td>\n",
              "      <td>152.20</td>\n",
              "      <td>1575.0</td>\n",
              "      <td>0.1374</td>\n",
              "      <td>0.2050</td>\n",
              "      <td>0.4000</td>\n",
              "      <td>0.1625</td>\n",
              "      <td>0.2364</td>\n",
              "      <td>0.07678</td>\n",
              "    </tr>\n",
              "  </tbody>\n",
              "</table>\n",
              "</div>"
            ],
            "text/plain": [
              "   mean radius  mean texture  ...  worst symmetry  worst fractal dimension\n",
              "0        17.99         10.38  ...          0.4601                  0.11890\n",
              "1        20.57         17.77  ...          0.2750                  0.08902\n",
              "2        19.69         21.25  ...          0.3613                  0.08758\n",
              "3        11.42         20.38  ...          0.6638                  0.17300\n",
              "4        20.29         14.34  ...          0.2364                  0.07678\n",
              "\n",
              "[5 rows x 30 columns]"
            ]
          },
          "metadata": {
            "tags": []
          },
          "execution_count": 7
        }
      ]
    },
    {
      "cell_type": "code",
      "metadata": {
        "id": "ZFNDkeTMom4o",
        "outputId": "b0f03b6c-afd5-4b8d-e03d-369b34006048",
        "colab": {
          "base_uri": "https://localhost:8080/",
          "height": 34
        }
      },
      "source": [
        "y = cancer.target\n",
        "cancer.target_names\n",
        "X.shape"
      ],
      "execution_count": 8,
      "outputs": [
        {
          "output_type": "execute_result",
          "data": {
            "text/plain": [
              "(569, 30)"
            ]
          },
          "metadata": {
            "tags": []
          },
          "execution_count": 8
        }
      ]
    },
    {
      "cell_type": "markdown",
      "metadata": {
        "id": "KmkJId47pAUX"
      },
      "source": [
        "# split the dataset in a random manner.\n",
        "*using SciKit library*"
      ]
    },
    {
      "cell_type": "code",
      "metadata": {
        "id": "NgHbuWRcHD91",
        "outputId": "91f56fb7-bd59-4a78-b3dc-1f65a2d740e9",
        "colab": {
          "base_uri": "https://localhost:8080/",
          "height": 34
        }
      },
      "source": [
        "X_train, X_test, y_train, y_test = train_test_split(X, y, test_size = 0.2, random_state = 0, stratify = y)\n",
        "X_train.shape\n"
      ],
      "execution_count": 9,
      "outputs": [
        {
          "output_type": "execute_result",
          "data": {
            "text/plain": [
              "(455, 30)"
            ]
          },
          "metadata": {
            "tags": []
          },
          "execution_count": 9
        }
      ]
    },
    {
      "cell_type": "code",
      "metadata": {
        "id": "U9_pElbUHD4c",
        "outputId": "3dd023da-a700-405d-e1e5-4e2cfc7a8606",
        "colab": {
          "base_uri": "https://localhost:8080/",
          "height": 34
        }
      },
      "source": [
        "X_test.shape"
      ],
      "execution_count": 10,
      "outputs": [
        {
          "output_type": "execute_result",
          "data": {
            "text/plain": [
              "(114, 30)"
            ]
          },
          "metadata": {
            "tags": []
          },
          "execution_count": 10
        }
      ]
    },
    {
      "cell_type": "markdown",
      "metadata": {
        "id": "W2znuKLkpSLo"
      },
      "source": [
        "*removes the mean and scales the data to unit variance.*"
      ]
    },
    {
      "cell_type": "code",
      "metadata": {
        "id": "_39ogdZzHDzZ"
      },
      "source": [
        "scaler = StandardScaler()\n",
        "X_train = scaler.fit_transform(X_train)\n",
        "X_test = scaler.transform(X_test)\n"
      ],
      "execution_count": 11,
      "outputs": []
    },
    {
      "cell_type": "code",
      "metadata": {
        "id": "zJRrGDTjHDxF"
      },
      "source": [
        "X_train = X_train.reshape(455,30,1)\n",
        "X_test = X_test.reshape(114, 30, 1)"
      ],
      "execution_count": 12,
      "outputs": []
    },
    {
      "cell_type": "markdown",
      "metadata": {
        "id": "IOWIULSwpZpp"
      },
      "source": [
        "# Building Model \n"
      ]
    },
    {
      "cell_type": "code",
      "metadata": {
        "id": "E7BhWpdwKuB3",
        "outputId": "ee535b93-8dda-40ad-eaf8-d3fe34a0e190",
        "colab": {
          "base_uri": "https://localhost:8080/",
          "height": 487
        }
      },
      "source": [
        "epochs = 50\n",
        "model = Sequential()\n",
        "model.add(Conv1D(filters=32, kernel_size=2, activation='relu', input_shape = (30,1)))\n",
        "model.add(BatchNormalization())\n",
        "model.add(Dropout(0.2))\n",
        "\n",
        "model.add(Conv1D(filters=64, kernel_size=2, activation='relu'))\n",
        "model.add(BatchNormalization())\n",
        "model.add(Dropout(0.5))\n",
        "\n",
        "model.add(Flatten())\n",
        "model.add(Dense(64, activation='relu'))\n",
        "model.add(Dropout(0.5))\n",
        "\n",
        "model.add(Dense(1, activation='sigmoid'))\n",
        "model.summary()"
      ],
      "execution_count": 13,
      "outputs": [
        {
          "output_type": "stream",
          "text": [
            "Model: \"sequential\"\n",
            "_________________________________________________________________\n",
            "Layer (type)                 Output Shape              Param #   \n",
            "=================================================================\n",
            "conv1d (Conv1D)              (None, 29, 32)            96        \n",
            "_________________________________________________________________\n",
            "batch_normalization (BatchNo (None, 29, 32)            128       \n",
            "_________________________________________________________________\n",
            "dropout (Dropout)            (None, 29, 32)            0         \n",
            "_________________________________________________________________\n",
            "conv1d_1 (Conv1D)            (None, 28, 64)            4160      \n",
            "_________________________________________________________________\n",
            "batch_normalization_1 (Batch (None, 28, 64)            256       \n",
            "_________________________________________________________________\n",
            "dropout_1 (Dropout)          (None, 28, 64)            0         \n",
            "_________________________________________________________________\n",
            "flatten (Flatten)            (None, 1792)              0         \n",
            "_________________________________________________________________\n",
            "dense (Dense)                (None, 64)                114752    \n",
            "_________________________________________________________________\n",
            "dropout_2 (Dropout)          (None, 64)                0         \n",
            "_________________________________________________________________\n",
            "dense_1 (Dense)              (None, 1)                 65        \n",
            "=================================================================\n",
            "Total params: 119,457\n",
            "Trainable params: 119,265\n",
            "Non-trainable params: 192\n",
            "_________________________________________________________________\n"
          ],
          "name": "stdout"
        }
      ]
    },
    {
      "cell_type": "code",
      "metadata": {
        "id": "ZAVCgZxNKuJc"
      },
      "source": [
        "model.compile(optimizer=Adam(lr=0.00005), loss = 'binary_crossentropy', metrics=['accuracy'])"
      ],
      "execution_count": 14,
      "outputs": []
    },
    {
      "cell_type": "markdown",
      "metadata": {
        "id": "hLFHGpykpn7n"
      },
      "source": [
        "*Trains the model for a fixed number of epochs (iterations on a dataset).*"
      ]
    },
    {
      "cell_type": "code",
      "metadata": {
        "id": "cpmdFABkKuM-",
        "outputId": "b11efb39-fcdd-41f8-cd1c-ee92d5ebdef5",
        "colab": {
          "base_uri": "https://localhost:8080/",
          "height": 1000
        }
      },
      "source": [
        "history = model.fit(X_train, y_train, epochs=epochs, validation_data=(X_test, y_test), verbose=1)"
      ],
      "execution_count": 15,
      "outputs": [
        {
          "output_type": "stream",
          "text": [
            "Epoch 1/50\n",
            "15/15 [==============================] - 0s 21ms/step - loss: 1.0208 - accuracy: 0.5868 - val_loss: 0.6352 - val_accuracy: 0.8772\n",
            "Epoch 2/50\n",
            "15/15 [==============================] - 0s 9ms/step - loss: 0.5860 - accuracy: 0.7077 - val_loss: 0.5887 - val_accuracy: 0.9123\n",
            "Epoch 3/50\n",
            "15/15 [==============================] - 0s 9ms/step - loss: 0.5750 - accuracy: 0.7495 - val_loss: 0.5469 - val_accuracy: 0.9035\n",
            "Epoch 4/50\n",
            "15/15 [==============================] - 0s 9ms/step - loss: 0.4678 - accuracy: 0.7912 - val_loss: 0.5058 - val_accuracy: 0.8772\n",
            "Epoch 5/50\n",
            "15/15 [==============================] - 0s 8ms/step - loss: 0.3927 - accuracy: 0.8330 - val_loss: 0.4705 - val_accuracy: 0.8772\n",
            "Epoch 6/50\n",
            "15/15 [==============================] - 0s 10ms/step - loss: 0.3173 - accuracy: 0.8813 - val_loss: 0.4395 - val_accuracy: 0.8772\n",
            "Epoch 7/50\n",
            "15/15 [==============================] - 0s 9ms/step - loss: 0.2934 - accuracy: 0.8681 - val_loss: 0.4102 - val_accuracy: 0.8772\n",
            "Epoch 8/50\n",
            "15/15 [==============================] - 0s 8ms/step - loss: 0.2611 - accuracy: 0.8813 - val_loss: 0.3812 - val_accuracy: 0.8684\n",
            "Epoch 9/50\n",
            "15/15 [==============================] - 0s 8ms/step - loss: 0.2706 - accuracy: 0.8813 - val_loss: 0.3543 - val_accuracy: 0.8772\n",
            "Epoch 10/50\n",
            "15/15 [==============================] - 0s 9ms/step - loss: 0.2213 - accuracy: 0.9077 - val_loss: 0.3292 - val_accuracy: 0.8772\n",
            "Epoch 11/50\n",
            "15/15 [==============================] - 0s 9ms/step - loss: 0.2310 - accuracy: 0.9143 - val_loss: 0.3063 - val_accuracy: 0.8860\n",
            "Epoch 12/50\n",
            "15/15 [==============================] - 0s 8ms/step - loss: 0.2446 - accuracy: 0.8967 - val_loss: 0.2868 - val_accuracy: 0.8860\n",
            "Epoch 13/50\n",
            "15/15 [==============================] - 0s 9ms/step - loss: 0.2154 - accuracy: 0.9077 - val_loss: 0.2687 - val_accuracy: 0.8947\n",
            "Epoch 14/50\n",
            "15/15 [==============================] - 0s 9ms/step - loss: 0.2335 - accuracy: 0.8989 - val_loss: 0.2490 - val_accuracy: 0.9211\n",
            "Epoch 15/50\n",
            "15/15 [==============================] - 0s 9ms/step - loss: 0.1728 - accuracy: 0.9407 - val_loss: 0.2306 - val_accuracy: 0.9211\n",
            "Epoch 16/50\n",
            "15/15 [==============================] - 0s 9ms/step - loss: 0.2027 - accuracy: 0.9143 - val_loss: 0.2158 - val_accuracy: 0.9298\n",
            "Epoch 17/50\n",
            "15/15 [==============================] - 0s 9ms/step - loss: 0.1929 - accuracy: 0.9165 - val_loss: 0.2014 - val_accuracy: 0.9474\n",
            "Epoch 18/50\n",
            "15/15 [==============================] - 0s 9ms/step - loss: 0.1980 - accuracy: 0.9253 - val_loss: 0.1882 - val_accuracy: 0.9561\n",
            "Epoch 19/50\n",
            "15/15 [==============================] - 0s 9ms/step - loss: 0.1798 - accuracy: 0.9407 - val_loss: 0.1778 - val_accuracy: 0.9561\n",
            "Epoch 20/50\n",
            "15/15 [==============================] - 0s 9ms/step - loss: 0.2069 - accuracy: 0.9275 - val_loss: 0.1678 - val_accuracy: 0.9649\n",
            "Epoch 21/50\n",
            "15/15 [==============================] - 0s 9ms/step - loss: 0.1959 - accuracy: 0.9275 - val_loss: 0.1595 - val_accuracy: 0.9649\n",
            "Epoch 22/50\n",
            "15/15 [==============================] - 0s 9ms/step - loss: 0.1540 - accuracy: 0.9253 - val_loss: 0.1510 - val_accuracy: 0.9649\n",
            "Epoch 23/50\n",
            "15/15 [==============================] - 0s 10ms/step - loss: 0.2031 - accuracy: 0.9253 - val_loss: 0.1452 - val_accuracy: 0.9649\n",
            "Epoch 24/50\n",
            "15/15 [==============================] - 0s 9ms/step - loss: 0.1642 - accuracy: 0.9429 - val_loss: 0.1401 - val_accuracy: 0.9649\n",
            "Epoch 25/50\n",
            "15/15 [==============================] - 0s 9ms/step - loss: 0.1987 - accuracy: 0.9055 - val_loss: 0.1372 - val_accuracy: 0.9649\n",
            "Epoch 26/50\n",
            "15/15 [==============================] - 0s 8ms/step - loss: 0.1384 - accuracy: 0.9560 - val_loss: 0.1327 - val_accuracy: 0.9649\n",
            "Epoch 27/50\n",
            "15/15 [==============================] - 0s 10ms/step - loss: 0.1087 - accuracy: 0.9538 - val_loss: 0.1287 - val_accuracy: 0.9649\n",
            "Epoch 28/50\n",
            "15/15 [==============================] - 0s 9ms/step - loss: 0.1328 - accuracy: 0.9538 - val_loss: 0.1259 - val_accuracy: 0.9649\n",
            "Epoch 29/50\n",
            "15/15 [==============================] - 0s 9ms/step - loss: 0.1567 - accuracy: 0.9429 - val_loss: 0.1222 - val_accuracy: 0.9649\n",
            "Epoch 30/50\n",
            "15/15 [==============================] - 0s 9ms/step - loss: 0.0994 - accuracy: 0.9626 - val_loss: 0.1191 - val_accuracy: 0.9649\n",
            "Epoch 31/50\n",
            "15/15 [==============================] - 0s 10ms/step - loss: 0.1494 - accuracy: 0.9363 - val_loss: 0.1171 - val_accuracy: 0.9649\n",
            "Epoch 32/50\n",
            "15/15 [==============================] - 0s 9ms/step - loss: 0.1786 - accuracy: 0.9385 - val_loss: 0.1161 - val_accuracy: 0.9649\n",
            "Epoch 33/50\n",
            "15/15 [==============================] - 0s 9ms/step - loss: 0.1224 - accuracy: 0.9582 - val_loss: 0.1166 - val_accuracy: 0.9649\n",
            "Epoch 34/50\n",
            "15/15 [==============================] - 0s 9ms/step - loss: 0.1635 - accuracy: 0.9275 - val_loss: 0.1156 - val_accuracy: 0.9561\n",
            "Epoch 35/50\n",
            "15/15 [==============================] - 0s 9ms/step - loss: 0.1671 - accuracy: 0.9429 - val_loss: 0.1141 - val_accuracy: 0.9649\n",
            "Epoch 36/50\n",
            "15/15 [==============================] - 0s 9ms/step - loss: 0.1351 - accuracy: 0.9473 - val_loss: 0.1121 - val_accuracy: 0.9649\n",
            "Epoch 37/50\n",
            "15/15 [==============================] - 0s 8ms/step - loss: 0.1185 - accuracy: 0.9429 - val_loss: 0.1121 - val_accuracy: 0.9561\n",
            "Epoch 38/50\n",
            "15/15 [==============================] - 0s 8ms/step - loss: 0.1158 - accuracy: 0.9560 - val_loss: 0.1113 - val_accuracy: 0.9649\n",
            "Epoch 39/50\n",
            "15/15 [==============================] - 0s 9ms/step - loss: 0.1289 - accuracy: 0.9385 - val_loss: 0.1107 - val_accuracy: 0.9649\n",
            "Epoch 40/50\n",
            "15/15 [==============================] - 0s 9ms/step - loss: 0.0777 - accuracy: 0.9692 - val_loss: 0.1107 - val_accuracy: 0.9649\n",
            "Epoch 41/50\n",
            "15/15 [==============================] - 0s 9ms/step - loss: 0.1320 - accuracy: 0.9516 - val_loss: 0.1093 - val_accuracy: 0.9737\n",
            "Epoch 42/50\n",
            "15/15 [==============================] - 0s 10ms/step - loss: 0.0863 - accuracy: 0.9670 - val_loss: 0.1087 - val_accuracy: 0.9649\n",
            "Epoch 43/50\n",
            "15/15 [==============================] - 0s 9ms/step - loss: 0.1261 - accuracy: 0.9538 - val_loss: 0.1092 - val_accuracy: 0.9649\n",
            "Epoch 44/50\n",
            "15/15 [==============================] - 0s 9ms/step - loss: 0.1011 - accuracy: 0.9692 - val_loss: 0.1099 - val_accuracy: 0.9737\n",
            "Epoch 45/50\n",
            "15/15 [==============================] - 0s 9ms/step - loss: 0.0924 - accuracy: 0.9714 - val_loss: 0.1092 - val_accuracy: 0.9737\n",
            "Epoch 46/50\n",
            "15/15 [==============================] - 0s 8ms/step - loss: 0.1078 - accuracy: 0.9582 - val_loss: 0.1068 - val_accuracy: 0.9737\n",
            "Epoch 47/50\n",
            "15/15 [==============================] - 0s 9ms/step - loss: 0.1407 - accuracy: 0.9451 - val_loss: 0.1063 - val_accuracy: 0.9737\n",
            "Epoch 48/50\n",
            "15/15 [==============================] - 0s 10ms/step - loss: 0.0986 - accuracy: 0.9670 - val_loss: 0.1066 - val_accuracy: 0.9737\n",
            "Epoch 49/50\n",
            "15/15 [==============================] - 0s 9ms/step - loss: 0.1177 - accuracy: 0.9604 - val_loss: 0.1063 - val_accuracy: 0.9737\n",
            "Epoch 50/50\n",
            "15/15 [==============================] - 0s 9ms/step - loss: 0.1215 - accuracy: 0.9560 - val_loss: 0.1057 - val_accuracy: 0.9737\n"
          ],
          "name": "stdout"
        }
      ]
    },
    {
      "cell_type": "code",
      "metadata": {
        "id": "KwdzPF4yKuHW"
      },
      "source": [
        "def plot_learningCurve(history, epoch):\n",
        "  # Plot training & validation accuracy values\n",
        "  epoch_range = range(1, epoch+1)\n",
        "  plt.plot(epoch_range, history.history['accuracy'])\n",
        "  plt.plot(epoch_range, history.history['val_accuracy'])\n",
        "  plt.title('Model accuracy')\n",
        "  plt.ylabel('Accuracy')\n",
        "  plt.xlabel('Epoch')\n",
        "  plt.legend(['Train', 'Val'], loc='upper left')\n",
        "  plt.show()\n",
        "\n",
        "  # Plot training & validation loss values\n",
        "  plt.plot(epoch_range, history.history['loss'])\n",
        "  plt.plot(epoch_range, history.history['val_loss'])\n",
        "  plt.title('Model loss')\n",
        "  plt.ylabel('Loss')\n",
        "  plt.xlabel('Epoch')\n",
        "  plt.legend(['Train', 'Val'], loc='upper left')\n",
        "  plt.show()"
      ],
      "execution_count": 16,
      "outputs": []
    },
    {
      "cell_type": "code",
      "metadata": {
        "id": "GHaTTNtNKuEX",
        "outputId": "d5b91f46-9902-46b8-9213-8edd51fc59af",
        "colab": {
          "base_uri": "https://localhost:8080/",
          "height": 1000
        }
      },
      "source": [
        "history.history"
      ],
      "execution_count": 17,
      "outputs": [
        {
          "output_type": "execute_result",
          "data": {
            "text/plain": [
              "{'accuracy': [0.58681321144104,\n",
              "  0.7076923251152039,\n",
              "  0.7494505643844604,\n",
              "  0.791208803653717,\n",
              "  0.8329670429229736,\n",
              "  0.8813186883926392,\n",
              "  0.8681318759918213,\n",
              "  0.8813186883926392,\n",
              "  0.8813186883926392,\n",
              "  0.9076923131942749,\n",
              "  0.9142857193946838,\n",
              "  0.89670330286026,\n",
              "  0.9076923131942749,\n",
              "  0.898901104927063,\n",
              "  0.9406593441963196,\n",
              "  0.9142857193946838,\n",
              "  0.9164835214614868,\n",
              "  0.9252747297286987,\n",
              "  0.9406593441963196,\n",
              "  0.9274725317955017,\n",
              "  0.9274725317955017,\n",
              "  0.9252747297286987,\n",
              "  0.9252747297286987,\n",
              "  0.9428571462631226,\n",
              "  0.9054945111274719,\n",
              "  0.9560439586639404,\n",
              "  0.9538461565971375,\n",
              "  0.9538461565971375,\n",
              "  0.9428571462631226,\n",
              "  0.9626373648643494,\n",
              "  0.9362637400627136,\n",
              "  0.9384615421295166,\n",
              "  0.9582417607307434,\n",
              "  0.9274725317955017,\n",
              "  0.9428571462631226,\n",
              "  0.9472527503967285,\n",
              "  0.9428571462631226,\n",
              "  0.9560439586639404,\n",
              "  0.9384615421295166,\n",
              "  0.9692307710647583,\n",
              "  0.9516483545303345,\n",
              "  0.9670329689979553,\n",
              "  0.9538461565971375,\n",
              "  0.9692307710647583,\n",
              "  0.9714285731315613,\n",
              "  0.9582417607307434,\n",
              "  0.9450549483299255,\n",
              "  0.9670329689979553,\n",
              "  0.9604395627975464,\n",
              "  0.9560439586639404],\n",
              " 'loss': [1.0207897424697876,\n",
              "  0.5860312581062317,\n",
              "  0.5750213861465454,\n",
              "  0.4678095281124115,\n",
              "  0.3926515281200409,\n",
              "  0.3173257112503052,\n",
              "  0.2934407889842987,\n",
              "  0.2611481249332428,\n",
              "  0.27063634991645813,\n",
              "  0.2213110327720642,\n",
              "  0.2310418039560318,\n",
              "  0.2446143925189972,\n",
              "  0.21542854607105255,\n",
              "  0.23352806270122528,\n",
              "  0.17277435958385468,\n",
              "  0.20270660519599915,\n",
              "  0.19286063313484192,\n",
              "  0.19799821078777313,\n",
              "  0.17977914214134216,\n",
              "  0.2069043666124344,\n",
              "  0.1958722025156021,\n",
              "  0.1539972722530365,\n",
              "  0.20313815772533417,\n",
              "  0.16416560113430023,\n",
              "  0.19867126643657684,\n",
              "  0.13837003707885742,\n",
              "  0.10868405550718307,\n",
              "  0.1328233927488327,\n",
              "  0.1567080020904541,\n",
              "  0.09939730912446976,\n",
              "  0.14940179884433746,\n",
              "  0.17861834168434143,\n",
              "  0.12237273901700974,\n",
              "  0.16348613798618317,\n",
              "  0.16714619100093842,\n",
              "  0.13511775434017181,\n",
              "  0.1184694766998291,\n",
              "  0.11575480550527573,\n",
              "  0.12886598706245422,\n",
              "  0.07774554938077927,\n",
              "  0.1320045441389084,\n",
              "  0.08633743226528168,\n",
              "  0.12613797187805176,\n",
              "  0.10108911991119385,\n",
              "  0.0923525020480156,\n",
              "  0.10777536034584045,\n",
              "  0.1406542956829071,\n",
              "  0.09858548641204834,\n",
              "  0.117713063955307,\n",
              "  0.12151377648115158],\n",
              " 'val_accuracy': [0.8771929740905762,\n",
              "  0.9122806787490845,\n",
              "  0.9035087823867798,\n",
              "  0.8771929740905762,\n",
              "  0.8771929740905762,\n",
              "  0.8771929740905762,\n",
              "  0.8771929740905762,\n",
              "  0.8684210777282715,\n",
              "  0.8771929740905762,\n",
              "  0.8771929740905762,\n",
              "  0.8859649300575256,\n",
              "  0.8859649300575256,\n",
              "  0.8947368264198303,\n",
              "  0.9210526347160339,\n",
              "  0.9210526347160339,\n",
              "  0.9298245906829834,\n",
              "  0.9473684430122375,\n",
              "  0.9561403393745422,\n",
              "  0.9561403393745422,\n",
              "  0.9649122953414917,\n",
              "  0.9649122953414917,\n",
              "  0.9649122953414917,\n",
              "  0.9649122953414917,\n",
              "  0.9649122953414917,\n",
              "  0.9649122953414917,\n",
              "  0.9649122953414917,\n",
              "  0.9649122953414917,\n",
              "  0.9649122953414917,\n",
              "  0.9649122953414917,\n",
              "  0.9649122953414917,\n",
              "  0.9649122953414917,\n",
              "  0.9649122953414917,\n",
              "  0.9649122953414917,\n",
              "  0.9561403393745422,\n",
              "  0.9649122953414917,\n",
              "  0.9649122953414917,\n",
              "  0.9561403393745422,\n",
              "  0.9649122953414917,\n",
              "  0.9649122953414917,\n",
              "  0.9649122953414917,\n",
              "  0.9736841917037964,\n",
              "  0.9649122953414917,\n",
              "  0.9649122953414917,\n",
              "  0.9736841917037964,\n",
              "  0.9736841917037964,\n",
              "  0.9736841917037964,\n",
              "  0.9736841917037964,\n",
              "  0.9736841917037964,\n",
              "  0.9736841917037964,\n",
              "  0.9736841917037964],\n",
              " 'val_loss': [0.6352232694625854,\n",
              "  0.5887103080749512,\n",
              "  0.5468621253967285,\n",
              "  0.5058237314224243,\n",
              "  0.4704936742782593,\n",
              "  0.439471960067749,\n",
              "  0.4101980924606323,\n",
              "  0.38124749064445496,\n",
              "  0.3543411195278168,\n",
              "  0.3291817307472229,\n",
              "  0.30626988410949707,\n",
              "  0.2868172824382782,\n",
              "  0.26865172386169434,\n",
              "  0.24895331263542175,\n",
              "  0.2306494414806366,\n",
              "  0.21575027704238892,\n",
              "  0.2014080286026001,\n",
              "  0.18818601965904236,\n",
              "  0.17784836888313293,\n",
              "  0.16784627735614777,\n",
              "  0.15947501361370087,\n",
              "  0.15103355050086975,\n",
              "  0.14523164927959442,\n",
              "  0.14009779691696167,\n",
              "  0.1372443288564682,\n",
              "  0.13269159197807312,\n",
              "  0.1287035495042801,\n",
              "  0.12588495016098022,\n",
              "  0.12221405655145645,\n",
              "  0.11913727968931198,\n",
              "  0.11708932369947433,\n",
              "  0.11608656495809555,\n",
              "  0.11657549440860748,\n",
              "  0.11564001441001892,\n",
              "  0.11414962261915207,\n",
              "  0.11211585998535156,\n",
              "  0.11209595203399658,\n",
              "  0.11134104430675507,\n",
              "  0.1106572076678276,\n",
              "  0.11068417876958847,\n",
              "  0.10931945592164993,\n",
              "  0.10872527211904526,\n",
              "  0.10919839143753052,\n",
              "  0.10988908261060715,\n",
              "  0.10918669402599335,\n",
              "  0.1067596971988678,\n",
              "  0.10627184063196182,\n",
              "  0.10656507313251495,\n",
              "  0.10629858076572418,\n",
              "  0.10568538308143616]}"
            ]
          },
          "metadata": {
            "tags": []
          },
          "execution_count": 17
        }
      ]
    },
    {
      "cell_type": "code",
      "metadata": {
        "id": "w-BSQ0r4LM7w",
        "outputId": "8fb8477b-1e31-4761-b7b9-b3615ee00730",
        "colab": {
          "base_uri": "https://localhost:8080/",
          "height": 573
        }
      },
      "source": [
        "plot_learningCurve(history, epochs)"
      ],
      "execution_count": 18,
      "outputs": [
        {
          "output_type": "display_data",
          "data": {
            "image/png": "[encoded data removed]",
            "text/plain": [
              "<Figure size 432x288 with 1 Axes>"
            ]
          },
          "metadata": {
            "tags": [],
            "needs_background": "light"
          }
        },
        {
          "output_type": "display_data",
          "data": {
            "image/png": "[encoded data removed]",
            "text/plain": [
              "<Figure size 432x288 with 1 Axes>"
            ]
          },
          "metadata": {
            "tags": [],
            "needs_background": "light"
          }
        }
      ]
    }
  ]
}