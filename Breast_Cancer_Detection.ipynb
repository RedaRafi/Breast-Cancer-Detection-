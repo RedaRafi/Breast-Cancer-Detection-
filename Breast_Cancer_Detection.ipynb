{
  "nbformat": 4,
  "nbformat_minor": 0,
  "metadata": {
    "colab": {
      "name": "Breast Cancer Detection.ipynb",
      "provenance": [],
      "authorship_tag": "ABX9TyNKZ4fs214rXzUtFH9spyHe",
      "include_colab_link": true
    },
    "kernelspec": {
      "name": "python3",
      "display_name": "Python 3"
    },
    "accelerator": "TPU"
  },
  "cells": [
    {
      "cell_type": "markdown",
      "metadata": {
        "id": "view-in-github",
        "colab_type": "text"
      },
      "source": [
        "<a href=\"https://colab.research.google.com/github/RedaRafi/Breast-Cancer-Detection-/blob/main/Breast_Cancer_Detection.ipynb\" target=\"_parent\"><img src=\"https://colab.research.google.com/assets/colab-badge.svg\" alt=\"Open In Colab\"/></a>"
      ]
    },
    {
      "cell_type": "markdown",
      "metadata": {
        "id": "eta--Je0m4xn"
      },
      "source": [
        "# Breast Cancer detection Using TensorFlow \n",
        "\n",
        "\n"
      ]
    },
    {
      "cell_type": "markdown",
      "metadata": {
        "id": "pj2Vi60CnLbi"
      },
      "source": [
        "We are going to use tensorflow 2.3 to build the model. "
      ]
    },
    {
      "cell_type": "code",
      "metadata": {
        "id": "3Sx1JZAPkK2l",
        "outputId": "57dcaba0-bf69-4ff4-dd5b-2cb3f9bc2419",
        "colab": {
          "base_uri": "https://localhost:8080/",
          "height": 860
        }
      },
      "source": [
        " !pip install tensorflow-gpu==2.3.0-rc0"
      ],
      "execution_count": null,
      "outputs": [
        {
          "output_type": "stream",
          "text": [
            "Collecting tensorflow-gpu==2.3.0-rc0\n",
            "\u001b[?25l  Downloading https://files.pythonhosted.org/packages/92/53/8553b59f223aef72d0a24dbc15364c86a28440652e98504301fea2286a0c/tensorflow_gpu-2.3.0rc0-cp36-cp36m-manylinux2010_x86_64.whl (320.3MB)\n",
            "\u001b[K     |████████████████████████████████| 320.3MB 46kB/s \n",
            "\u001b[?25hRequirement already satisfied: astunparse==1.6.3 in /usr/local/lib/python3.6/dist-packages (from tensorflow-gpu==2.3.0-rc0) (1.6.3)\n",
            "Requirement already satisfied: scipy==1.4.1 in /usr/local/lib/python3.6/dist-packages (from tensorflow-gpu==2.3.0-rc0) (1.4.1)\n",
            "Requirement already satisfied: grpcio>=1.8.6 in /usr/local/lib/python3.6/dist-packages (from tensorflow-gpu==2.3.0-rc0) (1.32.0)\n",
            "Collecting tf-estimator-nightly<2.3.0.dev2020062302,>=2.3.0.dev2020062301\n",
            "\u001b[?25l  Downloading https://files.pythonhosted.org/packages/17/3b/fb9aafd734da258411bff2a600cabff65c7d201782318791b72422bd973d/tf_estimator_nightly-2.3.0.dev2020062301-py2.py3-none-any.whl (459kB)\n",
            "\u001b[K     |████████████████████████████████| 460kB 39.9MB/s \n",
            "\u001b[?25hRequirement already satisfied: gast==0.3.3 in /usr/local/lib/python3.6/dist-packages (from tensorflow-gpu==2.3.0-rc0) (0.3.3)\n",
            "Requirement already satisfied: absl-py>=0.7.0 in /usr/local/lib/python3.6/dist-packages (from tensorflow-gpu==2.3.0-rc0) (0.10.0)\n",
            "Collecting tensorboard<2.3.0,>=2.2.0\n",
            "\u001b[?25l  Downloading https://files.pythonhosted.org/packages/1d/74/0a6fcb206dcc72a6da9a62dd81784bfdbff5fedb099982861dc2219014fb/tensorboard-2.2.2-py3-none-any.whl (3.0MB)\n",
            "\u001b[K     |████████████████████████████████| 3.0MB 45.4MB/s \n",
            "\u001b[?25hRequirement already satisfied: wrapt>=1.11.1 in /usr/local/lib/python3.6/dist-packages (from tensorflow-gpu==2.3.0-rc0) (1.12.1)\n",
            "Requirement already satisfied: numpy<1.19.0,>=1.16.0 in /usr/local/lib/python3.6/dist-packages (from tensorflow-gpu==2.3.0-rc0) (1.18.5)\n",
            "Requirement already satisfied: opt-einsum>=2.3.2 in /usr/local/lib/python3.6/dist-packages (from tensorflow-gpu==2.3.0-rc0) (3.3.0)\n",
            "Requirement already satisfied: termcolor>=1.1.0 in /usr/local/lib/python3.6/dist-packages (from tensorflow-gpu==2.3.0-rc0) (1.1.0)\n",
            "Requirement already satisfied: h5py<2.11.0,>=2.10.0 in /usr/local/lib/python3.6/dist-packages (from tensorflow-gpu==2.3.0-rc0) (2.10.0)\n",
            "Requirement already satisfied: protobuf>=3.9.2 in /usr/local/lib/python3.6/dist-packages (from tensorflow-gpu==2.3.0-rc0) (3.12.4)\n",
            "Requirement already satisfied: wheel>=0.26 in /usr/local/lib/python3.6/dist-packages (from tensorflow-gpu==2.3.0-rc0) (0.35.1)\n",
            "Requirement already satisfied: keras-preprocessing<1.2,>=1.1.1 in /usr/local/lib/python3.6/dist-packages (from tensorflow-gpu==2.3.0-rc0) (1.1.2)\n",
            "Requirement already satisfied: six>=1.12.0 in /usr/local/lib/python3.6/dist-packages (from tensorflow-gpu==2.3.0-rc0) (1.15.0)\n",
            "Requirement already satisfied: google-pasta>=0.1.8 in /usr/local/lib/python3.6/dist-packages (from tensorflow-gpu==2.3.0-rc0) (0.2.0)\n",
            "Requirement already satisfied: tensorboard-plugin-wit>=1.6.0 in /usr/local/lib/python3.6/dist-packages (from tensorboard<2.3.0,>=2.2.0->tensorflow-gpu==2.3.0-rc0) (1.7.0)\n",
            "Requirement already satisfied: markdown>=2.6.8 in /usr/local/lib/python3.6/dist-packages (from tensorboard<2.3.0,>=2.2.0->tensorflow-gpu==2.3.0-rc0) (3.2.2)\n",
            "Requirement already satisfied: setuptools>=41.0.0 in /usr/local/lib/python3.6/dist-packages (from tensorboard<2.3.0,>=2.2.0->tensorflow-gpu==2.3.0-rc0) (50.3.0)\n",
            "Requirement already satisfied: werkzeug>=0.11.15 in /usr/local/lib/python3.6/dist-packages (from tensorboard<2.3.0,>=2.2.0->tensorflow-gpu==2.3.0-rc0) (1.0.1)\n",
            "Requirement already satisfied: google-auth<2,>=1.6.3 in /usr/local/lib/python3.6/dist-packages (from tensorboard<2.3.0,>=2.2.0->tensorflow-gpu==2.3.0-rc0) (1.17.2)\n",
            "Requirement already satisfied: google-auth-oauthlib<0.5,>=0.4.1 in /usr/local/lib/python3.6/dist-packages (from tensorboard<2.3.0,>=2.2.0->tensorflow-gpu==2.3.0-rc0) (0.4.1)\n",
            "Requirement already satisfied: requests<3,>=2.21.0 in /usr/local/lib/python3.6/dist-packages (from tensorboard<2.3.0,>=2.2.0->tensorflow-gpu==2.3.0-rc0) (2.23.0)\n",
            "Requirement already satisfied: importlib-metadata; python_version < \"3.8\" in /usr/local/lib/python3.6/dist-packages (from markdown>=2.6.8->tensorboard<2.3.0,>=2.2.0->tensorflow-gpu==2.3.0-rc0) (2.0.0)\n",
            "Requirement already satisfied: rsa<5,>=3.1.4; python_version >= \"3\" in /usr/local/lib/python3.6/dist-packages (from google-auth<2,>=1.6.3->tensorboard<2.3.0,>=2.2.0->tensorflow-gpu==2.3.0-rc0) (4.6)\n",
            "Requirement already satisfied: cachetools<5.0,>=2.0.0 in /usr/local/lib/python3.6/dist-packages (from google-auth<2,>=1.6.3->tensorboard<2.3.0,>=2.2.0->tensorflow-gpu==2.3.0-rc0) (4.1.1)\n",
            "Requirement already satisfied: pyasn1-modules>=0.2.1 in /usr/local/lib/python3.6/dist-packages (from google-auth<2,>=1.6.3->tensorboard<2.3.0,>=2.2.0->tensorflow-gpu==2.3.0-rc0) (0.2.8)\n",
            "Requirement already satisfied: requests-oauthlib>=0.7.0 in /usr/local/lib/python3.6/dist-packages (from google-auth-oauthlib<0.5,>=0.4.1->tensorboard<2.3.0,>=2.2.0->tensorflow-gpu==2.3.0-rc0) (1.3.0)\n",
            "Requirement already satisfied: urllib3!=1.25.0,!=1.25.1,<1.26,>=1.21.1 in /usr/local/lib/python3.6/dist-packages (from requests<3,>=2.21.0->tensorboard<2.3.0,>=2.2.0->tensorflow-gpu==2.3.0-rc0) (1.24.3)\n",
            "Requirement already satisfied: certifi>=2017.4.17 in /usr/local/lib/python3.6/dist-packages (from requests<3,>=2.21.0->tensorboard<2.3.0,>=2.2.0->tensorflow-gpu==2.3.0-rc0) (2020.6.20)\n",
            "Requirement already satisfied: idna<3,>=2.5 in /usr/local/lib/python3.6/dist-packages (from requests<3,>=2.21.0->tensorboard<2.3.0,>=2.2.0->tensorflow-gpu==2.3.0-rc0) (2.10)\n",
            "Requirement already satisfied: chardet<4,>=3.0.2 in /usr/local/lib/python3.6/dist-packages (from requests<3,>=2.21.0->tensorboard<2.3.0,>=2.2.0->tensorflow-gpu==2.3.0-rc0) (3.0.4)\n",
            "Requirement already satisfied: zipp>=0.5 in /usr/local/lib/python3.6/dist-packages (from importlib-metadata; python_version < \"3.8\"->markdown>=2.6.8->tensorboard<2.3.0,>=2.2.0->tensorflow-gpu==2.3.0-rc0) (3.2.0)\n",
            "Requirement already satisfied: pyasn1>=0.1.3 in /usr/local/lib/python3.6/dist-packages (from rsa<5,>=3.1.4; python_version >= \"3\"->google-auth<2,>=1.6.3->tensorboard<2.3.0,>=2.2.0->tensorflow-gpu==2.3.0-rc0) (0.4.8)\n",
            "Requirement already satisfied: oauthlib>=3.0.0 in /usr/local/lib/python3.6/dist-packages (from requests-oauthlib>=0.7.0->google-auth-oauthlib<0.5,>=0.4.1->tensorboard<2.3.0,>=2.2.0->tensorflow-gpu==2.3.0-rc0) (3.1.0)\n",
            "\u001b[31mERROR: tensorflow 2.3.0 has requirement tensorboard<3,>=2.3.0, but you'll have tensorboard 2.2.2 which is incompatible.\u001b[0m\n",
            "Installing collected packages: tf-estimator-nightly, tensorboard, tensorflow-gpu\n",
            "  Found existing installation: tensorboard 2.3.0\n",
            "    Uninstalling tensorboard-2.3.0:\n",
            "      Successfully uninstalled tensorboard-2.3.0\n",
            "Successfully installed tensorboard-2.2.2 tensorflow-gpu-2.3.0rc0 tf-estimator-nightly-2.3.0.dev2020062301\n"
          ],
          "name": "stdout"
        }
      ]
    },
    {
      "cell_type": "markdown",
      "metadata": {
        "id": "8oedsebunBbh"
      },
      "source": [
        "\n",
        "#Importing necessary library that will use in model building.\n"
      ]
    },
    {
      "cell_type": "code",
      "metadata": {
        "id": "DiSoc2jzCXXo",
        "outputId": "ec982feb-ff95-4c8a-ec59-4d7c9a6c9403",
        "colab": {
          "base_uri": "https://localhost:8080/",
          "height": 34
        }
      },
      "source": [
        "import tensorflow as tf\n",
        "from tensorflow import keras\n",
        "from tensorflow.keras import Sequential\n",
        "from tensorflow.keras.layers import Flatten, Dense, Dropout, BatchNormalization\n",
        "from tensorflow.keras.layers import Conv1D, MaxPool1D\n",
        "\n",
        "from tensorflow.keras.optimizers import Adam\n",
        "\n",
        "\n"
      ],
      "execution_count": null,
      "outputs": [
        {
          "output_type": "stream",
          "text": [
            "2.3.0\n"
          ],
          "name": "stdout"
        }
      ]
    },
    {
      "cell_type": "code",
      "metadata": {
        "id": "ZK8WgU3OlCT_"
      },
      "source": [
        "import pandas as pd\n",
        "import numpy as np\n",
        "import  seaborn as sns\n",
        "import matplotlib.pyplot as plt\n",
        "import pandas.util.testing as tm"
      ],
      "execution_count": null,
      "outputs": []
    },
    {
      "cell_type": "code",
      "metadata": {
        "id": "tnbLLynFG7Gt"
      },
      "source": [
        "from sklearn import datasets, metrics\n",
        "from sklearn.model_selection import train_test_split\n",
        "from sklearn.preprocessing import StandardScaler"
      ],
      "execution_count": null,
      "outputs": []
    },
    {
      "cell_type": "markdown",
      "metadata": {
        "id": "Po6i7faomlcm"
      },
      "source": [
        "# *Loading the breast cancer classification dataset.*"
      ]
    },
    {
      "cell_type": "code",
      "metadata": {
        "id": "vkzlqelVHDrb"
      },
      "source": [
        "cancer = datasets.load_breast_cancer()"
      ],
      "execution_count": null,
      "outputs": []
    },
    {
      "cell_type": "markdown",
      "metadata": {
        "id": "QSGckVsMn_6F"
      },
      "source": [
        "\n",
        "*   Pandas DataFrame to present all My data. \n",
        "*   Create a dataframe with our cancer data and target data.\n",
        "\n",
        "\n",
        "\n"
      ]
    },
    {
      "cell_type": "code",
      "metadata": {
        "id": "5UMdekhsHD1n",
        "outputId": "45ea74c4-012b-4618-f18f-181d7908894f",
        "colab": {
          "base_uri": "https://localhost:8080/",
          "height": 34
        }
      },
      "source": [
        "X = pd.DataFrame(data = cancer.data, columns=cancer.feature_names)\n",
        "X.head() \n",
        "\n"
      ],
      "execution_count": null,
      "outputs": [
        {
          "output_type": "execute_result",
          "data": {
            "text/plain": [
              "array(['malignant', 'benign'], dtype='<U9')"
            ]
          },
          "metadata": {
            "tags": []
          },
          "execution_count": 31
        }
      ]
    },
    {
      "cell_type": "code",
      "metadata": {
        "id": "ZFNDkeTMom4o"
      },
      "source": [
        "y = cancer.target\n",
        "cancer.target_names\n",
        "X.shape"
      ],
      "execution_count": null,
      "outputs": []
    },
    {
      "cell_type": "markdown",
      "metadata": {
        "id": "KmkJId47pAUX"
      },
      "source": [
        "# split the dataset in a random manner.\n",
        "*using SciKit library*"
      ]
    },
    {
      "cell_type": "code",
      "metadata": {
        "id": "NgHbuWRcHD91",
        "outputId": "e5436cfc-98ee-422b-d958-2616091ffa2d",
        "colab": {
          "base_uri": "https://localhost:8080/",
          "height": 34
        }
      },
      "source": [
        "X_train, X_test, y_train, y_test = train_test_split(X, y, test_size = 0.2, random_state = 0, stratify = y)\n",
        "X_train.shape\n"
      ],
      "execution_count": null,
      "outputs": [
        {
          "output_type": "execute_result",
          "data": {
            "text/plain": [
              "(455, 30)"
            ]
          },
          "metadata": {
            "tags": []
          },
          "execution_count": 33
        }
      ]
    },
    {
      "cell_type": "code",
      "metadata": {
        "id": "U9_pElbUHD4c",
        "outputId": "7ac56d9e-83ec-47a3-f429-763858867910",
        "colab": {
          "base_uri": "https://localhost:8080/",
          "height": 34
        }
      },
      "source": [
        "X_test.shape"
      ],
      "execution_count": null,
      "outputs": [
        {
          "output_type": "execute_result",
          "data": {
            "text/plain": [
              "(114, 30)"
            ]
          },
          "metadata": {
            "tags": []
          },
          "execution_count": 34
        }
      ]
    },
    {
      "cell_type": "markdown",
      "metadata": {
        "id": "W2znuKLkpSLo"
      },
      "source": [
        "*removes the mean and scales the data to unit variance.*"
      ]
    },
    {
      "cell_type": "code",
      "metadata": {
        "id": "_39ogdZzHDzZ"
      },
      "source": [
        "scaler = StandardScaler()\n",
        "X_train = scaler.fit_transform(X_train)\n",
        "X_test = scaler.transform(X_test)\n"
      ],
      "execution_count": null,
      "outputs": []
    },
    {
      "cell_type": "code",
      "metadata": {
        "id": "zJRrGDTjHDxF"
      },
      "source": [
        "X_train = X_train.reshape(455,30,1)\n",
        "X_test = X_test.reshape(114, 30, 1)"
      ],
      "execution_count": null,
      "outputs": []
    },
    {
      "cell_type": "markdown",
      "metadata": {
        "id": "IOWIULSwpZpp"
      },
      "source": [
        "# Building Model \n"
      ]
    },
    {
      "cell_type": "code",
      "metadata": {
        "id": "E7BhWpdwKuB3",
        "outputId": "dbb105cd-5b9e-4f8f-ef73-738cafab45a9",
        "colab": {
          "base_uri": "https://localhost:8080/",
          "height": 487
        }
      },
      "source": [
        "epochs = 50\n",
        "model = Sequential()\n",
        "model.add(Conv1D(filters=32, kernel_size=2, activation='relu', input_shape = (30,1)))\n",
        "model.add(BatchNormalization())\n",
        "model.add(Dropout(0.2))\n",
        "\n",
        "model.add(Conv1D(filters=64, kernel_size=2, activation='relu'))\n",
        "model.add(BatchNormalization())\n",
        "model.add(Dropout(0.5))\n",
        "\n",
        "model.add(Flatten())\n",
        "model.add(Dense(64, activation='relu'))\n",
        "model.add(Dropout(0.5))\n",
        "\n",
        "model.add(Dense(1, activation='sigmoid'))\n",
        "model.summary()"
      ],
      "execution_count": null,
      "outputs": [
        {
          "output_type": "stream",
          "text": [
            "Model: \"sequential_2\"\n",
            "_________________________________________________________________\n",
            "Layer (type)                 Output Shape              Param #   \n",
            "=================================================================\n",
            "conv1d_4 (Conv1D)            (None, 29, 32)            96        \n",
            "_________________________________________________________________\n",
            "batch_normalization_4 (Batch (None, 29, 32)            128       \n",
            "_________________________________________________________________\n",
            "dropout_6 (Dropout)          (None, 29, 32)            0         \n",
            "_________________________________________________________________\n",
            "conv1d_5 (Conv1D)            (None, 28, 64)            4160      \n",
            "_________________________________________________________________\n",
            "batch_normalization_5 (Batch (None, 28, 64)            256       \n",
            "_________________________________________________________________\n",
            "dropout_7 (Dropout)          (None, 28, 64)            0         \n",
            "_________________________________________________________________\n",
            "flatten_2 (Flatten)          (None, 1792)              0         \n",
            "_________________________________________________________________\n",
            "dense_4 (Dense)              (None, 64)                114752    \n",
            "_________________________________________________________________\n",
            "dropout_8 (Dropout)          (None, 64)                0         \n",
            "_________________________________________________________________\n",
            "dense_5 (Dense)              (None, 1)                 65        \n",
            "=================================================================\n",
            "Total params: 119,457\n",
            "Trainable params: 119,265\n",
            "Non-trainable params: 192\n",
            "_________________________________________________________________\n"
          ],
          "name": "stdout"
        }
      ]
    },
    {
      "cell_type": "code",
      "metadata": {
        "id": "ZAVCgZxNKuJc"
      },
      "source": [
        "model.compile(optimizer=Adam(lr=0.00005), loss = 'binary_crossentropy', metrics=['accuracy'])"
      ],
      "execution_count": null,
      "outputs": []
    },
    {
      "cell_type": "markdown",
      "metadata": {
        "id": "hLFHGpykpn7n"
      },
      "source": [
        "*Trains the model for a fixed number of epochs (iterations on a dataset).*"
      ]
    },
    {
      "cell_type": "code",
      "metadata": {
        "id": "cpmdFABkKuM-",
        "outputId": "e0d83bcf-c9d3-4ce4-bf4f-7d6f827e5316",
        "colab": {
          "base_uri": "https://localhost:8080/",
          "height": 1000
        }
      },
      "source": [
        "history = model.fit(X_train, y_train, epochs=epochs, validation_data=(X_test, y_test), verbose=1)"
      ],
      "execution_count": null,
      "outputs": [
        {
          "output_type": "stream",
          "text": [
            "Epoch 1/50\n",
            "15/15 [==============================] - 0s 23ms/step - loss: 0.8295 - accuracy: 0.6484 - val_loss: 0.6291 - val_accuracy: 0.8070\n",
            "Epoch 2/50\n",
            "15/15 [==============================] - 0s 9ms/step - loss: 0.6509 - accuracy: 0.7429 - val_loss: 0.5924 - val_accuracy: 0.8333\n",
            "Epoch 3/50\n",
            "15/15 [==============================] - 0s 8ms/step - loss: 0.5260 - accuracy: 0.7868 - val_loss: 0.5577 - val_accuracy: 0.8509\n",
            "Epoch 4/50\n",
            "15/15 [==============================] - 0s 9ms/step - loss: 0.4249 - accuracy: 0.8308 - val_loss: 0.5255 - val_accuracy: 0.8684\n",
            "Epoch 5/50\n",
            "15/15 [==============================] - 0s 8ms/step - loss: 0.3787 - accuracy: 0.8418 - val_loss: 0.4947 - val_accuracy: 0.8684\n",
            "Epoch 6/50\n",
            "15/15 [==============================] - 0s 8ms/step - loss: 0.3497 - accuracy: 0.8527 - val_loss: 0.4658 - val_accuracy: 0.8596\n",
            "Epoch 7/50\n",
            "15/15 [==============================] - 0s 9ms/step - loss: 0.3395 - accuracy: 0.8659 - val_loss: 0.4398 - val_accuracy: 0.8509\n",
            "Epoch 8/50\n",
            "15/15 [==============================] - 0s 8ms/step - loss: 0.2692 - accuracy: 0.8857 - val_loss: 0.4148 - val_accuracy: 0.8509\n",
            "Epoch 9/50\n",
            "15/15 [==============================] - 0s 8ms/step - loss: 0.2715 - accuracy: 0.8879 - val_loss: 0.3911 - val_accuracy: 0.8596\n",
            "Epoch 10/50\n",
            "15/15 [==============================] - 0s 8ms/step - loss: 0.2336 - accuracy: 0.8945 - val_loss: 0.3659 - val_accuracy: 0.8684\n",
            "Epoch 11/50\n",
            "15/15 [==============================] - 0s 8ms/step - loss: 0.2294 - accuracy: 0.8945 - val_loss: 0.3426 - val_accuracy: 0.8772\n",
            "Epoch 12/50\n",
            "15/15 [==============================] - 0s 8ms/step - loss: 0.2016 - accuracy: 0.9099 - val_loss: 0.3204 - val_accuracy: 0.8772\n",
            "Epoch 13/50\n",
            "15/15 [==============================] - 0s 8ms/step - loss: 0.2196 - accuracy: 0.8989 - val_loss: 0.2988 - val_accuracy: 0.8860\n",
            "Epoch 14/50\n",
            "15/15 [==============================] - 0s 9ms/step - loss: 0.1914 - accuracy: 0.9165 - val_loss: 0.2782 - val_accuracy: 0.9123\n",
            "Epoch 15/50\n",
            "15/15 [==============================] - 0s 8ms/step - loss: 0.1911 - accuracy: 0.9187 - val_loss: 0.2587 - val_accuracy: 0.9123\n",
            "Epoch 16/50\n",
            "15/15 [==============================] - 0s 9ms/step - loss: 0.1684 - accuracy: 0.9385 - val_loss: 0.2407 - val_accuracy: 0.9211\n",
            "Epoch 17/50\n",
            "15/15 [==============================] - 0s 8ms/step - loss: 0.1945 - accuracy: 0.9187 - val_loss: 0.2228 - val_accuracy: 0.9386\n",
            "Epoch 18/50\n",
            "15/15 [==============================] - 0s 8ms/step - loss: 0.2236 - accuracy: 0.9253 - val_loss: 0.2080 - val_accuracy: 0.9474\n",
            "Epoch 19/50\n",
            "15/15 [==============================] - 0s 8ms/step - loss: 0.2224 - accuracy: 0.9165 - val_loss: 0.1944 - val_accuracy: 0.9561\n",
            "Epoch 20/50\n",
            "15/15 [==============================] - 0s 8ms/step - loss: 0.1655 - accuracy: 0.9495 - val_loss: 0.1821 - val_accuracy: 0.9561\n",
            "Epoch 21/50\n",
            "15/15 [==============================] - 0s 9ms/step - loss: 0.1732 - accuracy: 0.9451 - val_loss: 0.1702 - val_accuracy: 0.9561\n",
            "Epoch 22/50\n",
            "15/15 [==============================] - 0s 9ms/step - loss: 0.1769 - accuracy: 0.9209 - val_loss: 0.1598 - val_accuracy: 0.9474\n",
            "Epoch 23/50\n",
            "15/15 [==============================] - 0s 8ms/step - loss: 0.1926 - accuracy: 0.9297 - val_loss: 0.1512 - val_accuracy: 0.9474\n",
            "Epoch 24/50\n",
            "15/15 [==============================] - 0s 8ms/step - loss: 0.1984 - accuracy: 0.9297 - val_loss: 0.1446 - val_accuracy: 0.9386\n",
            "Epoch 25/50\n",
            "15/15 [==============================] - 0s 8ms/step - loss: 0.1216 - accuracy: 0.9495 - val_loss: 0.1387 - val_accuracy: 0.9474\n",
            "Epoch 26/50\n",
            "15/15 [==============================] - 0s 8ms/step - loss: 0.1459 - accuracy: 0.9560 - val_loss: 0.1342 - val_accuracy: 0.9561\n",
            "Epoch 27/50\n",
            "15/15 [==============================] - 0s 8ms/step - loss: 0.1496 - accuracy: 0.9385 - val_loss: 0.1305 - val_accuracy: 0.9561\n",
            "Epoch 28/50\n",
            "15/15 [==============================] - 0s 9ms/step - loss: 0.1316 - accuracy: 0.9473 - val_loss: 0.1266 - val_accuracy: 0.9561\n",
            "Epoch 29/50\n",
            "15/15 [==============================] - 0s 10ms/step - loss: 0.1402 - accuracy: 0.9363 - val_loss: 0.1230 - val_accuracy: 0.9649\n",
            "Epoch 30/50\n",
            "15/15 [==============================] - 0s 8ms/step - loss: 0.1218 - accuracy: 0.9473 - val_loss: 0.1206 - val_accuracy: 0.9649\n",
            "Epoch 31/50\n",
            "15/15 [==============================] - 0s 8ms/step - loss: 0.1416 - accuracy: 0.9495 - val_loss: 0.1184 - val_accuracy: 0.9649\n",
            "Epoch 32/50\n",
            "15/15 [==============================] - 0s 8ms/step - loss: 0.1310 - accuracy: 0.9429 - val_loss: 0.1168 - val_accuracy: 0.9649\n",
            "Epoch 33/50\n",
            "15/15 [==============================] - 0s 8ms/step - loss: 0.1247 - accuracy: 0.9538 - val_loss: 0.1156 - val_accuracy: 0.9649\n",
            "Epoch 34/50\n",
            "15/15 [==============================] - 0s 10ms/step - loss: 0.1259 - accuracy: 0.9473 - val_loss: 0.1149 - val_accuracy: 0.9649\n",
            "Epoch 35/50\n",
            "15/15 [==============================] - 0s 8ms/step - loss: 0.1226 - accuracy: 0.9538 - val_loss: 0.1141 - val_accuracy: 0.9649\n",
            "Epoch 36/50\n",
            "15/15 [==============================] - 0s 9ms/step - loss: 0.1253 - accuracy: 0.9604 - val_loss: 0.1139 - val_accuracy: 0.9649\n",
            "Epoch 37/50\n",
            "15/15 [==============================] - 0s 8ms/step - loss: 0.1134 - accuracy: 0.9582 - val_loss: 0.1135 - val_accuracy: 0.9649\n",
            "Epoch 38/50\n",
            "15/15 [==============================] - 0s 9ms/step - loss: 0.1186 - accuracy: 0.9538 - val_loss: 0.1122 - val_accuracy: 0.9649\n",
            "Epoch 39/50\n",
            "15/15 [==============================] - 0s 8ms/step - loss: 0.1204 - accuracy: 0.9560 - val_loss: 0.1121 - val_accuracy: 0.9649\n",
            "Epoch 40/50\n",
            "15/15 [==============================] - 0s 9ms/step - loss: 0.1015 - accuracy: 0.9516 - val_loss: 0.1115 - val_accuracy: 0.9649\n",
            "Epoch 41/50\n",
            "15/15 [==============================] - 0s 8ms/step - loss: 0.0921 - accuracy: 0.9648 - val_loss: 0.1118 - val_accuracy: 0.9649\n",
            "Epoch 42/50\n",
            "15/15 [==============================] - 0s 8ms/step - loss: 0.1083 - accuracy: 0.9648 - val_loss: 0.1119 - val_accuracy: 0.9649\n",
            "Epoch 43/50\n",
            "15/15 [==============================] - 0s 8ms/step - loss: 0.0922 - accuracy: 0.9538 - val_loss: 0.1112 - val_accuracy: 0.9649\n",
            "Epoch 44/50\n",
            "15/15 [==============================] - 0s 10ms/step - loss: 0.1003 - accuracy: 0.9582 - val_loss: 0.1110 - val_accuracy: 0.9649\n",
            "Epoch 45/50\n",
            "15/15 [==============================] - 0s 9ms/step - loss: 0.1225 - accuracy: 0.9560 - val_loss: 0.1108 - val_accuracy: 0.9649\n",
            "Epoch 46/50\n",
            "15/15 [==============================] - 0s 9ms/step - loss: 0.1007 - accuracy: 0.9560 - val_loss: 0.1103 - val_accuracy: 0.9561\n",
            "Epoch 47/50\n",
            "15/15 [==============================] - 0s 9ms/step - loss: 0.1237 - accuracy: 0.9473 - val_loss: 0.1096 - val_accuracy: 0.9649\n",
            "Epoch 48/50\n",
            "15/15 [==============================] - 0s 9ms/step - loss: 0.1031 - accuracy: 0.9604 - val_loss: 0.1096 - val_accuracy: 0.9649\n",
            "Epoch 49/50\n",
            "15/15 [==============================] - 0s 9ms/step - loss: 0.0967 - accuracy: 0.9582 - val_loss: 0.1101 - val_accuracy: 0.9649\n",
            "Epoch 50/50\n",
            "15/15 [==============================] - 0s 9ms/step - loss: 0.1125 - accuracy: 0.9560 - val_loss: 0.1098 - val_accuracy: 0.9649\n"
          ],
          "name": "stdout"
        }
      ]
    },
    {
      "cell_type": "code",
      "metadata": {
        "id": "KwdzPF4yKuHW"
      },
      "source": [
        "def plot_learningCurve(history, epoch):\n",
        "  # Plot training & validation accuracy values\n",
        "  epoch_range = range(1, epoch+1)\n",
        "  plt.plot(epoch_range, history.history['accuracy'])\n",
        "  plt.plot(epoch_range, history.history['val_accuracy'])\n",
        "  plt.title('Model accuracy')\n",
        "  plt.ylabel('Accuracy')\n",
        "  plt.xlabel('Epoch')\n",
        "  plt.legend(['Train', 'Val'], loc='upper left')\n",
        "  plt.show()\n",
        "\n",
        "  # Plot training & validation loss values\n",
        "  plt.plot(epoch_range, history.history['loss'])\n",
        "  plt.plot(epoch_range, history.history['val_loss'])\n",
        "  plt.title('Model loss')\n",
        "  plt.ylabel('Loss')\n",
        "  plt.xlabel('Epoch')\n",
        "  plt.legend(['Train', 'Val'], loc='upper left')\n",
        "  plt.show()"
      ],
      "execution_count": null,
      "outputs": []
    },
    {
      "cell_type": "code",
      "metadata": {
        "id": "GHaTTNtNKuEX",
        "outputId": "9871ffb0-0567-48d9-dcfb-2ca9e9b2f1da",
        "colab": {
          "base_uri": "https://localhost:8080/",
          "height": 1000
        }
      },
      "source": [
        "history.history"
      ],
      "execution_count": null,
      "outputs": [
        {
          "output_type": "execute_result",
          "data": {
            "text/plain": [
              "{'accuracy': [0.6483516693115234,\n",
              "  0.7428571581840515,\n",
              "  0.7868131995201111,\n",
              "  0.8307692408561707,\n",
              "  0.8417582511901855,\n",
              "  0.8527472615242004,\n",
              "  0.8659340739250183,\n",
              "  0.8857142925262451,\n",
              "  0.8879120945930481,\n",
              "  0.894505500793457,\n",
              "  0.894505500793457,\n",
              "  0.9098901152610779,\n",
              "  0.898901104927063,\n",
              "  0.9164835214614868,\n",
              "  0.9186813235282898,\n",
              "  0.9384615421295166,\n",
              "  0.9186813235282898,\n",
              "  0.9252747297286987,\n",
              "  0.9164835214614868,\n",
              "  0.9494505524635315,\n",
              "  0.9450549483299255,\n",
              "  0.9208791255950928,\n",
              "  0.9296703338623047,\n",
              "  0.9296703338623047,\n",
              "  0.9494505524635315,\n",
              "  0.9560439586639404,\n",
              "  0.9384615421295166,\n",
              "  0.9472527503967285,\n",
              "  0.9362637400627136,\n",
              "  0.9472527503967285,\n",
              "  0.9494505524635315,\n",
              "  0.9428571462631226,\n",
              "  0.9538461565971375,\n",
              "  0.9472527503967285,\n",
              "  0.9538461565971375,\n",
              "  0.9604395627975464,\n",
              "  0.9582417607307434,\n",
              "  0.9538461565971375,\n",
              "  0.9560439586639404,\n",
              "  0.9516483545303345,\n",
              "  0.9648351669311523,\n",
              "  0.9648351669311523,\n",
              "  0.9538461565971375,\n",
              "  0.9582417607307434,\n",
              "  0.9560439586639404,\n",
              "  0.9560439586639404,\n",
              "  0.9472527503967285,\n",
              "  0.9604395627975464,\n",
              "  0.9582417607307434,\n",
              "  0.9560439586639404],\n",
              " 'loss': [0.8294927477836609,\n",
              "  0.6508516669273376,\n",
              "  0.5260369777679443,\n",
              "  0.42486923933029175,\n",
              "  0.378705769777298,\n",
              "  0.34968531131744385,\n",
              "  0.33954063057899475,\n",
              "  0.2691929042339325,\n",
              "  0.27154913544654846,\n",
              "  0.2335885614156723,\n",
              "  0.2294335663318634,\n",
              "  0.20162297785282135,\n",
              "  0.21958833932876587,\n",
              "  0.19140222668647766,\n",
              "  0.1910969763994217,\n",
              "  0.16837334632873535,\n",
              "  0.1945369392633438,\n",
              "  0.223568394780159,\n",
              "  0.22243796288967133,\n",
              "  0.16549135744571686,\n",
              "  0.17324218153953552,\n",
              "  0.17688243091106415,\n",
              "  0.19262415170669556,\n",
              "  0.19836635887622833,\n",
              "  0.12156607955694199,\n",
              "  0.1458745002746582,\n",
              "  0.14963091909885406,\n",
              "  0.1315869390964508,\n",
              "  0.14015881717205048,\n",
              "  0.1217636838555336,\n",
              "  0.14164288341999054,\n",
              "  0.13101327419281006,\n",
              "  0.12466494739055634,\n",
              "  0.1259402185678482,\n",
              "  0.1226051077246666,\n",
              "  0.12530100345611572,\n",
              "  0.11336077004671097,\n",
              "  0.11863689124584198,\n",
              "  0.12037339806556702,\n",
              "  0.10150802135467529,\n",
              "  0.09206311404705048,\n",
              "  0.10826241970062256,\n",
              "  0.09215295314788818,\n",
              "  0.10030584782361984,\n",
              "  0.12254378944635391,\n",
              "  0.10072588920593262,\n",
              "  0.1237439438700676,\n",
              "  0.10312294960021973,\n",
              "  0.09666528552770615,\n",
              "  0.11253586411476135],\n",
              " 'val_accuracy': [0.8070175647735596,\n",
              "  0.8333333134651184,\n",
              "  0.8508771657943726,\n",
              "  0.8684210777282715,\n",
              "  0.8684210777282715,\n",
              "  0.859649121761322,\n",
              "  0.8508771657943726,\n",
              "  0.8508771657943726,\n",
              "  0.859649121761322,\n",
              "  0.8684210777282715,\n",
              "  0.8771929740905762,\n",
              "  0.8771929740905762,\n",
              "  0.8859649300575256,\n",
              "  0.9122806787490845,\n",
              "  0.9122806787490845,\n",
              "  0.9210526347160339,\n",
              "  0.9385964870452881,\n",
              "  0.9473684430122375,\n",
              "  0.9561403393745422,\n",
              "  0.9561403393745422,\n",
              "  0.9561403393745422,\n",
              "  0.9473684430122375,\n",
              "  0.9473684430122375,\n",
              "  0.9385964870452881,\n",
              "  0.9473684430122375,\n",
              "  0.9561403393745422,\n",
              "  0.9561403393745422,\n",
              "  0.9561403393745422,\n",
              "  0.9649122953414917,\n",
              "  0.9649122953414917,\n",
              "  0.9649122953414917,\n",
              "  0.9649122953414917,\n",
              "  0.9649122953414917,\n",
              "  0.9649122953414917,\n",
              "  0.9649122953414917,\n",
              "  0.9649122953414917,\n",
              "  0.9649122953414917,\n",
              "  0.9649122953414917,\n",
              "  0.9649122953414917,\n",
              "  0.9649122953414917,\n",
              "  0.9649122953414917,\n",
              "  0.9649122953414917,\n",
              "  0.9649122953414917,\n",
              "  0.9649122953414917,\n",
              "  0.9649122953414917,\n",
              "  0.9561403393745422,\n",
              "  0.9649122953414917,\n",
              "  0.9649122953414917,\n",
              "  0.9649122953414917,\n",
              "  0.9649122953414917],\n",
              " 'val_loss': [0.629067063331604,\n",
              "  0.5923685431480408,\n",
              "  0.557656466960907,\n",
              "  0.5254702568054199,\n",
              "  0.49470940232276917,\n",
              "  0.4657556712627411,\n",
              "  0.4398132264614105,\n",
              "  0.414829283952713,\n",
              "  0.3911413252353668,\n",
              "  0.3659277856349945,\n",
              "  0.34255969524383545,\n",
              "  0.3203681409358978,\n",
              "  0.2988054156303406,\n",
              "  0.27821674942970276,\n",
              "  0.2587432563304901,\n",
              "  0.24067221581935883,\n",
              "  0.22280272841453552,\n",
              "  0.20803596079349518,\n",
              "  0.19442225992679596,\n",
              "  0.18207156658172607,\n",
              "  0.17016460001468658,\n",
              "  0.15977869927883148,\n",
              "  0.15119114518165588,\n",
              "  0.14462332427501678,\n",
              "  0.13870830833911896,\n",
              "  0.13416104018688202,\n",
              "  0.13052168488502502,\n",
              "  0.12664444744586945,\n",
              "  0.12303526699542999,\n",
              "  0.12062610685825348,\n",
              "  0.11837176233530045,\n",
              "  0.1167851909995079,\n",
              "  0.11563551425933838,\n",
              "  0.11486320942640305,\n",
              "  0.11407352983951569,\n",
              "  0.11388630419969559,\n",
              "  0.11352807283401489,\n",
              "  0.11216939985752106,\n",
              "  0.11207947134971619,\n",
              "  0.1115327775478363,\n",
              "  0.11182643473148346,\n",
              "  0.11193911731243134,\n",
              "  0.1111840084195137,\n",
              "  0.11103656888008118,\n",
              "  0.11082097887992859,\n",
              "  0.110333651304245,\n",
              "  0.10960225760936737,\n",
              "  0.10958760231733322,\n",
              "  0.11006956547498703,\n",
              "  0.10977756232023239]}"
            ]
          },
          "metadata": {
            "tags": []
          },
          "execution_count": 43
        }
      ]
    },
    {
      "cell_type": "code",
      "metadata": {
        "id": "w-BSQ0r4LM7w",
        "outputId": "4b340ad5-8443-4735-b435-8654ecf98916",
        "colab": {
          "base_uri": "https://localhost:8080/",
          "height": 573
        }
      },
      "source": [
        "plot_learningCurve(history, epochs)"
      ],
      "execution_count": null,
      "outputs": [
        {
          "output_type": "display_data",
          "data": {
            "image/png": "[encoded data removed]",
            "text/plain": [
              "<Figure size 432x288 with 1 Axes>"
            ]
          },
          "metadata": {
            "tags": [],
            "needs_background": "light"
          }
        },
        {
          "output_type": "display_data",
          "data": {
            "image/png": "[encoded data removed]",
            "text/plain": [
              "<Figure size 432x288 with 1 Axes>"
            ]
          },
          "metadata": {
            "tags": [],
            "needs_background": "light"
          }
        }
      ]
    },
    {
      "cell_type": "code",
      "metadata": {
        "id": "SUJQGx8gLNDr"
      },
      "source": [
        ""
      ],
      "execution_count": null,
      "outputs": []
    },
    {
      "cell_type": "code",
      "metadata": {
        "id": "yC-o6ukZLNK8"
      },
      "source": [
        ""
      ],
      "execution_count": null,
      "outputs": []
    },
    {
      "cell_type": "code",
      "metadata": {
        "id": "tn61KacsLNOO"
      },
      "source": [
        ""
      ],
      "execution_count": null,
      "outputs": []
    },
    {
      "cell_type": "code",
      "metadata": {
        "id": "LWfHN37qLNJU"
      },
      "source": [
        ""
      ],
      "execution_count": null,
      "outputs": []
    },
    {
      "cell_type": "code",
      "metadata": {
        "id": "fSDau8R9LNH1"
      },
      "source": [
        ""
      ],
      "execution_count": null,
      "outputs": []
    },
    {
      "cell_type": "code",
      "metadata": {
        "id": "iSCmqcEDLNBJ"
      },
      "source": [
        ""
      ],
      "execution_count": null,
      "outputs": []
    },
    {
      "cell_type": "code",
      "metadata": {
        "id": "iAs_JEI0LM-1"
      },
      "source": [
        ""
      ],
      "execution_count": null,
      "outputs": []
    }
  ]
}